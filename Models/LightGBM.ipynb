{
 "cells": [
  {
   "cell_type": "markdown",
   "metadata": {},
   "source": [
    "# Light GBM on KKBox's Music Recommendation System "
   ]
  },
  {
   "cell_type": "markdown",
   "metadata": {},
   "source": [
    "In this notebook, we will fit a light GBM model to the data, calculate the accuracies on different data splits, run a grid search to extract the best model and build evaluation metrics to validate how well our model fits the data."
   ]
  },
  {
   "cell_type": "code",
   "execution_count": 4,
   "metadata": {
    "ExecuteTime": {
     "end_time": "2018-12-06T19:06:49.644153Z",
     "start_time": "2018-12-06T19:06:49.638484Z"
    }
   },
   "outputs": [],
   "source": [
    "#Importing libraries\n",
    "import numpy as np\n",
    "import pandas as pd\n",
    "import lightgbm as lgb\n",
    "import datetime\n",
    "import math\n",
    "import gc\n",
    "from sklearn.pipeline import Pipeline\n",
    "from sklearn.model_selection import GridSearchCV\n",
    "from sklearn.metrics import accuracy_score\n",
    "import random\n",
    "import matplotlib.pyplot as plt\n",
    "import graphviz\n",
    "import warnings\n",
    "warnings.filterwarnings('ignore')"
   ]
  },
  {
   "cell_type": "markdown",
   "metadata": {},
   "source": [
    "# 1. Loading Data"
   ]
  },
  {
   "cell_type": "markdown",
   "metadata": {},
   "source": [
    "While loading the data, we will convert the categorical variables to type: object to be able to change it to Categorical variable in the future"
   ]
  },
  {
   "cell_type": "code",
   "execution_count": 4,
   "metadata": {
    "ExecuteTime": {
     "end_time": "2018-12-05T03:47:27.290894Z",
     "start_time": "2018-12-05T03:47:03.275481Z"
    }
   },
   "outputs": [
    {
     "name": "stdout",
     "output_type": "stream",
     "text": [
      "Loading data...\n",
      "Done loading...\n"
     ]
    }
   ],
   "source": [
    "print('Loading data...')\n",
    "train = pd.read_csv('train.csv', dtype={'msno' : 'object',\n",
    "                                                 'source_system_tab' : 'object',\n",
    "                                                 'source_screen_name' : 'object',\n",
    "                                                 'source_type' : 'object',\n",
    "                                                 'target' : np.uint8,\n",
    "                                                 'song_id' : 'object'})\n",
    "test = pd.read_csv('test.csv', dtype={'msno' : 'object',\n",
    "                                               'source_system_tab' : 'object',\n",
    "                                               'source_screen_name' : 'object',\n",
    "                                               'source_type' : 'object',\n",
    "                                               'song_id' : 'object'})\n",
    "songs = pd.read_csv('songs.csv',dtype={'genre_ids': 'object',\n",
    "                                                    'language' : 'object',\n",
    "                                                    'artist_name' : 'object',\n",
    "                                                    'composer' : 'object',\n",
    "                                                    'lyricist' : 'object',\n",
    "                                                    'song_id' : 'object'})\n",
    "members = pd.read_csv('members.csv',dtype={'city' : 'object',\n",
    "                                                    'bd' : np.uint8,\n",
    "                                                    'gender' : 'object',\n",
    "                                                    'registered_via' : 'object'},\n",
    "                     parse_dates=['registration_init_time','expiration_date'])\n",
    "songs_extra = pd.read_csv('song_extra_info.csv')\n",
    "print('Done loading...')"
   ]
  },
  {
   "cell_type": "markdown",
   "metadata": {},
   "source": [
    "# 2. Data Processing for LightGBM"
   ]
  },
  {
   "cell_type": "markdown",
   "metadata": {},
   "source": [
    "In this section, we will clean and transform the data and make it ready for feature extraction."
   ]
  },
  {
   "cell_type": "markdown",
   "metadata": {},
   "source": [
    "#### 2.1 Convert object type to category type"
   ]
  },
  {
   "cell_type": "code",
   "execution_count": 5,
   "metadata": {
    "ExecuteTime": {
     "end_time": "2018-12-05T03:47:47.579948Z",
     "start_time": "2018-12-05T03:47:27.294554Z"
    }
   },
   "outputs": [],
   "source": [
    "def object2cat(df):\n",
    "    object_cols = list(df.select_dtypes(include=['object']).columns)\n",
    "    for col in object_cols:\n",
    "        df[col]=df[col].astype('category')\n",
    "object2cat(train)\n",
    "object2cat(test)\n",
    "object2cat(songs)\n",
    "object2cat(members)"
   ]
  },
  {
   "cell_type": "code",
   "execution_count": 6,
   "metadata": {
    "ExecuteTime": {
     "end_time": "2018-12-05T03:47:47.587447Z",
     "start_time": "2018-12-05T03:47:47.581045Z"
    }
   },
   "outputs": [],
   "source": [
    "#test case for object2cat\n",
    "assert train['msno'].dtype == 'category'\n",
    "assert test['source_system_tab'].dtype == 'category'\n",
    "assert songs['language'].dtype == 'category'\n",
    "assert members['city'].dtype == 'category'\n"
   ]
  },
  {
   "cell_type": "markdown",
   "metadata": {},
   "source": [
    "The test cases in the above grid will make sure that we are getting the right column types."
   ]
  },
  {
   "cell_type": "code",
   "execution_count": 7,
   "metadata": {
    "ExecuteTime": {
     "end_time": "2018-12-05T03:47:47.602171Z",
     "start_time": "2018-12-05T03:47:47.591060Z"
    }
   },
   "outputs": [
    {
     "data": {
      "text/html": [
       "<div>\n",
       "<style scoped>\n",
       "    .dataframe tbody tr th:only-of-type {\n",
       "        vertical-align: middle;\n",
       "    }\n",
       "\n",
       "    .dataframe tbody tr th {\n",
       "        vertical-align: top;\n",
       "    }\n",
       "\n",
       "    .dataframe thead th {\n",
       "        text-align: right;\n",
       "    }\n",
       "</style>\n",
       "<table border=\"1\" class=\"dataframe\">\n",
       "  <thead>\n",
       "    <tr style=\"text-align: right;\">\n",
       "      <th></th>\n",
       "      <th>song_id</th>\n",
       "      <th>name</th>\n",
       "      <th>isrc</th>\n",
       "    </tr>\n",
       "  </thead>\n",
       "  <tbody>\n",
       "    <tr>\n",
       "      <th>0</th>\n",
       "      <td>LP7pLJoJFBvyuUwvu+oLzjT+bI+UeBPURCecJsX1jjs=</td>\n",
       "      <td>我們</td>\n",
       "      <td>TWUM71200043</td>\n",
       "    </tr>\n",
       "    <tr>\n",
       "      <th>1</th>\n",
       "      <td>ClazTFnk6r0Bnuie44bocdNMM3rdlrq0bCGAsGUWcHE=</td>\n",
       "      <td>Let Me Love You</td>\n",
       "      <td>QMZSY1600015</td>\n",
       "    </tr>\n",
       "    <tr>\n",
       "      <th>2</th>\n",
       "      <td>u2ja/bZE3zhCGxvbbOB3zOoUjx27u40cf5g09UXMoKQ=</td>\n",
       "      <td>原諒我</td>\n",
       "      <td>TWA530887303</td>\n",
       "    </tr>\n",
       "    <tr>\n",
       "      <th>3</th>\n",
       "      <td>92Fqsy0+p6+RHe2EoLKjHahORHR1Kq1TBJoClW9v+Ts=</td>\n",
       "      <td>Classic</td>\n",
       "      <td>USSM11301446</td>\n",
       "    </tr>\n",
       "    <tr>\n",
       "      <th>4</th>\n",
       "      <td>0QFmz/+rJy1Q56C1DuYqT9hKKqi5TUqx0sN0IwvoHrw=</td>\n",
       "      <td>愛投羅網</td>\n",
       "      <td>TWA471306001</td>\n",
       "    </tr>\n",
       "  </tbody>\n",
       "</table>\n",
       "</div>"
      ],
      "text/plain": [
       "                                        song_id             name          isrc\n",
       "0  LP7pLJoJFBvyuUwvu+oLzjT+bI+UeBPURCecJsX1jjs=               我們  TWUM71200043\n",
       "1  ClazTFnk6r0Bnuie44bocdNMM3rdlrq0bCGAsGUWcHE=  Let Me Love You  QMZSY1600015\n",
       "2  u2ja/bZE3zhCGxvbbOB3zOoUjx27u40cf5g09UXMoKQ=              原諒我  TWA530887303\n",
       "3  92Fqsy0+p6+RHe2EoLKjHahORHR1Kq1TBJoClW9v+Ts=          Classic  USSM11301446\n",
       "4  0QFmz/+rJy1Q56C1DuYqT9hKKqi5TUqx0sN0IwvoHrw=             愛投羅網  TWA471306001"
      ]
     },
     "execution_count": 7,
     "metadata": {},
     "output_type": "execute_result"
    }
   ],
   "source": [
    "songs_extra.head()"
   ]
  },
  {
   "cell_type": "markdown",
   "metadata": {},
   "source": [
    "In the grid below, we encorporate the data cleaning and transformation. Data cleaning involves removing/imputing the NA value. We will now merge the data from different csv files to one data frame. The grid below also contains a function which would extract year from the isrc_id."
   ]
  },
  {
   "cell_type": "markdown",
   "metadata": {},
   "source": [
    "#### 2.2 Merging the Data"
   ]
  },
  {
   "cell_type": "markdown",
   "metadata": {},
   "source": [
    "In this section, we will merge the different csv files to one dataframe"
   ]
  },
  {
   "cell_type": "code",
   "execution_count": 8,
   "metadata": {
    "ExecuteTime": {
     "end_time": "2018-12-05T03:48:16.952747Z",
     "start_time": "2018-12-05T03:47:47.603762Z"
    }
   },
   "outputs": [
    {
     "name": "stdout",
     "output_type": "stream",
     "text": [
      "Data merging...\n",
      "Done merging...\n"
     ]
    }
   ],
   "source": [
    "print('Data merging...')\n",
    "\n",
    "# Merging song with train and test dataframes\n",
    "train = train.merge(songs, on='song_id', how='left')\n",
    "test = test.merge(songs, on='song_id', how='left')\n",
    "\n",
    "# Data Extraction/Transformation - Extracting days, \n",
    "# months and years from expiratin and registration time \n",
    "members['membership_days'] = members['expiration_date'].subtract(\n",
    "    members['registration_init_time']).dt.days.astype(int)\n",
    "\n",
    "members['registration_year'] = members['registration_init_time'].dt.year\n",
    "members['registration_month'] = members['registration_init_time'].dt.month\n",
    "members['registration_date'] = members['registration_init_time'].dt.day\n",
    "\n",
    "members['expiration_year'] = members['expiration_date'].dt.year\n",
    "members['expiration_month'] = members['expiration_date'].dt.month\n",
    "members['expiration_date'] = members['expiration_date'].dt.day\n",
    "members = members.drop(['registration_init_time'], axis=1)\n",
    "\n",
    "\n",
    "# Converting isrc id to year\n",
    "def isrc_to_year(isrc):\n",
    "    if type(isrc) == str:\n",
    "        if int(isrc[5:7]) > 17:\n",
    "            return 1900 + int(isrc[5:7])\n",
    "        else:\n",
    "            return 2000 + int(isrc[5:7])\n",
    "    else:\n",
    "        return np.nan\n",
    "    \n",
    "\n",
    "#extracting the year of the song from isrc        \n",
    "songs_extra['song_year'] = songs_extra['isrc'].apply(isrc_to_year)\n",
    "\n",
    "#Dropping isrc and name from songs_extra\n",
    "songs_extra.drop(['isrc', 'name'], axis = 1, inplace = True)\n",
    "\n",
    "train = train.merge(members, on='msno', how='left')\n",
    "train.msno = train.msno.astype('category')\n",
    "test = test.merge(members, on='msno', how='left')\n",
    "test.msno = test.msno.astype('category')\n",
    "\n",
    "train = train.merge(songs_extra, on = 'song_id', how = 'left')\n",
    "train.song_length.fillna(200000,inplace=True)\n",
    "train.song_length = train.song_length.astype(np.uint32)\n",
    "train.song_id = train.song_id.astype('category')\n",
    "\n",
    "\n",
    "test = test.merge(songs_extra, on = 'song_id', how = 'left')\n",
    "test.song_length.fillna(200000,inplace=True)\n",
    "test.song_length = test.song_length.astype(np.uint32)\n",
    "test.song_id = test.song_id.astype('category')\n",
    "\n",
    "#deleting redundant dataframes\n",
    "\n",
    "del members, songs; gc.collect();\n",
    "\n",
    "print('Done merging...')"
   ]
  },
  {
   "cell_type": "code",
   "execution_count": 9,
   "metadata": {
    "ExecuteTime": {
     "end_time": "2018-12-05T03:48:16.956902Z",
     "start_time": "2018-12-05T03:48:16.954499Z"
    }
   },
   "outputs": [],
   "source": [
    "#testing isrc_to_year\n",
    "assert len(songs_extra['song_year']) != 0\n"
   ]
  },
  {
   "cell_type": "markdown",
   "metadata": {},
   "source": [
    "Let's check if the train dataframe has the right column types."
   ]
  },
  {
   "cell_type": "code",
   "execution_count": 10,
   "metadata": {
    "ExecuteTime": {
     "end_time": "2018-12-05T03:48:16.964891Z",
     "start_time": "2018-12-05T03:48:16.958445Z"
    }
   },
   "outputs": [
    {
     "data": {
      "text/plain": [
       "msno                  category\n",
       "song_id               category\n",
       "source_system_tab     category\n",
       "source_screen_name    category\n",
       "source_type           category\n",
       "target                   uint8\n",
       "song_length             uint32\n",
       "genre_ids             category\n",
       "artist_name           category\n",
       "composer              category\n",
       "lyricist              category\n",
       "language              category\n",
       "city                  category\n",
       "bd                       uint8\n",
       "gender                category\n",
       "registered_via        category\n",
       "expiration_date          int64\n",
       "membership_days          int64\n",
       "registration_year        int64\n",
       "registration_month       int64\n",
       "registration_date        int64\n",
       "expiration_year          int64\n",
       "expiration_month         int64\n",
       "song_year              float64\n",
       "dtype: object"
      ]
     },
     "execution_count": 10,
     "metadata": {},
     "output_type": "execute_result"
    }
   ],
   "source": [
    "train.dtypes"
   ]
  },
  {
   "cell_type": "markdown",
   "metadata": {},
   "source": [
    "Let's now perform some feature engineering on the existing features. In this, we extract new features from the existing ones and impute the data to fill the NAs."
   ]
  },
  {
   "cell_type": "markdown",
   "metadata": {},
   "source": [
    "# 3. Feature Engineering"
   ]
  },
  {
   "cell_type": "markdown",
   "metadata": {},
   "source": [
    "In this section, we will extract new features from the existing dataset. This will result in a few new features which will help us in predicting the target better"
   ]
  },
  {
   "cell_type": "markdown",
   "metadata": {},
   "source": [
    "#### 3.1 Adding new features"
   ]
  },
  {
   "cell_type": "markdown",
   "metadata": {},
   "source": [
    "We extract things like genre count, lyricists count, featured count etc."
   ]
  },
  {
   "cell_type": "code",
   "execution_count": 11,
   "metadata": {
    "ExecuteTime": {
     "end_time": "2018-12-05T03:48:20.153702Z",
     "start_time": "2018-12-05T03:48:16.966714Z"
    }
   },
   "outputs": [
    {
     "name": "stdout",
     "output_type": "stream",
     "text": [
      "Adding new features\n"
     ]
    }
   ],
   "source": [
    "print (\"Adding new features\")\n",
    "\n",
    "#counting genre_id\n",
    "def genre_id_count(x):\n",
    "    if x == 'no_genre_id':\n",
    "        return 0\n",
    "    else:\n",
    "        return x.count('|') + 1\n",
    "\n",
    "\n",
    "#filling NA in place of null values\n",
    "train['genre_ids'].cat.add_categories('no_genre_id').fillna('no_genre_id',inplace=True)\n",
    "test['genre_ids'].cat.add_categories('no_genre_id').fillna('no_genre_id',inplace=True)\n",
    "train['genre_ids_count'] = train['genre_ids'].apply(genre_id_count).astype(np.int8)\n",
    "test['genre_ids_count'] = test['genre_ids'].apply(genre_id_count).astype(np.int8)\n",
    "\n",
    "\n",
    "# Splitting the lyricists by ['|', '/', '\\\\', ';'] and counting the number of Lyricists\n",
    "def lyricist_count(x):\n",
    "    if x == 'no_lyricist':\n",
    "        return 0\n",
    "    else:\n",
    "        return sum(map(x.count, ['|', '/', '\\\\', ';'])) + 1\n",
    "    return sum(map(x.count, ['|', '/', '\\\\', ';']))\n",
    "\n",
    "train['lyricist'].cat.add_categories('no_lyricist').fillna('no_lyricist',inplace=True)\n",
    "test['lyricist'].cat.add_categories('no_lyricist').fillna('no_lyricist',inplace=True)\n",
    "train['lyricists_count'] = train['lyricist'].apply(lyricist_count).astype(np.int8)\n",
    "test['lyricists_count'] = test['lyricist'].apply(lyricist_count).astype(np.int8)\n",
    "\n",
    "\n",
    "# Splitting the comoser by ['|', '/', '\\\\', ';'] and counting the number of Lyricists\n",
    "def composer_count(x):\n",
    "    if x == 'no_composer':\n",
    "        return 0\n",
    "    else:\n",
    "        return sum(map(x.count, ['|', '/', '\\\\', ';'])) + 1\n",
    "\n",
    "train['composer'].cat.add_categories('no_composer').fillna('no_composer',inplace=True)\n",
    "test['composer'].cat.add_categories('no_composer').fillna('no_composer',inplace=True)\n",
    "train['composer_count'] = train['composer'].apply(composer_count).astype(np.int8)\n",
    "test['composer_count'] = test['composer'].apply(composer_count).astype(np.int8)\n",
    "\n",
    "# Checking for feat in the column value\n",
    "def is_featured(x):\n",
    "    if 'feat' in str(x) :\n",
    "        return 1\n",
    "    return 0\n",
    "\n",
    "train['artist_name'].cat.add_categories('no_artist').fillna('no_artist',inplace=True)\n",
    "test['artist_name'].cat.add_categories('no_artist').fillna('no_artist',inplace=True)\n",
    "train['is_featured'] = train['artist_name'].apply(is_featured).astype(np.int8)\n",
    "test['is_featured'] = test['artist_name'].apply(is_featured).astype(np.int8)\n",
    "\n",
    "# Splitting the artists by [and, ',', feat, &] and counting the number of artists\n",
    "def artist_count(x):\n",
    "    if x == 'no_artist':\n",
    "        return 0\n",
    "    else:\n",
    "        return x.count('and') + x.count(',') + x.count('feat') + x.count('&')\n",
    "\n",
    "train['artist_count'] = train['artist_name'].apply(artist_count).astype(np.int8)\n",
    "test['artist_count'] = test['artist_name'].apply(artist_count).astype(np.int8)"
   ]
  },
  {
   "cell_type": "code",
   "execution_count": 12,
   "metadata": {
    "ExecuteTime": {
     "end_time": "2018-12-05T03:52:01.640361Z",
     "start_time": "2018-12-05T03:52:01.625001Z"
    }
   },
   "outputs": [],
   "source": [
    "#testing above functions\n",
    "\n",
    "#testing genre_id_count\n",
    "assert len(train['genre_ids_count']) != 0\n",
    "assert len(test['genre_ids_count']) != 0\n",
    "\n",
    "#testing composer_count\n",
    "assert len(train['composer_count']) != 0\n",
    "assert len(train['composer_count']) != 0\n",
    "\n",
    "#testing lyricist_count\n",
    "assert len(train['lyricists_count']) != 0\n",
    "assert len(test['lyricists_count']) != 0\n",
    "\n",
    "#testing is_feat\n",
    "assert len(train['is_featured']) != 0\n",
    "assert len(test['is_featured']) != 0\n",
    "\n",
    "#testing artist_count\n",
    "assert len(train['artist_count']) != 0\n",
    "assert len(test['artist_count']) != 0"
   ]
  },
  {
   "cell_type": "markdown",
   "metadata": {},
   "source": [
    "In the below grid will extract even more features from the songs data like the length of the song, the language, etc.. "
   ]
  },
  {
   "cell_type": "code",
   "execution_count": 13,
   "metadata": {
    "ExecuteTime": {
     "end_time": "2018-12-05T03:55:22.043770Z",
     "start_time": "2018-12-05T03:55:07.838979Z"
    }
   },
   "outputs": [
    {
     "name": "stdout",
     "output_type": "stream",
     "text": [
      "Done adding features\n"
     ]
    }
   ],
   "source": [
    "# if artist is same as composer\n",
    "train['artist_composer'] = (train['artist_name'].astype(\"object\") == train['composer']\n",
    "                            .astype(\"object\")).astype(np.int8)\n",
    "test['artist_composer'] = (test['artist_name'].astype(\"object\") == test['composer']\n",
    "                           .astype(\"object\")).astype(np.int8)\n",
    "\n",
    "# if artist, lyricist and composer are all three same\n",
    "train['artist_composer_lyricist'] = ((train['artist_name'].astype(\"object\") \n",
    "                                      == train['composer'].astype(\"object\")) \n",
    "                                     & (train['artist_name'].astype(\"object\")\n",
    "                                        == train['lyricist'].astype(\"object\"))\n",
    "                                     & (train['composer'].astype(\"object\")\n",
    "                                        == train['lyricist'].astype(\"object\"))\n",
    "                                    ).astype(np.int8)\n",
    "test['artist_composer_lyricist'] = ((test['artist_name'].astype(\"object\") \n",
    "                                     == test['composer'].astype(\"object\")) \n",
    "                                    & (test['artist_name'].astype(\"object\")\n",
    "                                       == test['lyricist'].astype(\"object\"))\n",
    "                                    & (test['composer'].astype(\"object\") \n",
    "                                       == test['lyricist'].astype(\"object\"))\n",
    "                                   ).astype(np.int8)\n",
    "\n",
    "# is song language 17 or 45. \n",
    "def song_lang_boolean(x):\n",
    "    if '17.0' in str(x) or '45.0' in str(x):\n",
    "        return 1\n",
    "    return 0\n",
    "\n",
    "train['song_lang_boolean'] = train['language'].apply(song_lang_boolean).astype(np.int8)\n",
    "test['song_lang_boolean'] = test['language'].apply(song_lang_boolean).astype(np.int8)\n",
    "\n",
    "_mean_song_length = np.mean(train['song_length'])\n",
    "def smaller_song(x):\n",
    "    if x < _mean_song_length:\n",
    "        return 1\n",
    "    return 0\n",
    "\n",
    "train['smaller_song'] = train['song_length'].apply(smaller_song).astype(np.int8)\n",
    "test['smaller_song'] = test['song_length'].apply(smaller_song).astype(np.int8)\n",
    "\n",
    "# number of times a song has been played before\n",
    "_dict_count_song_played_train = {k: v for k, v in train['song_id']\n",
    "                                 .value_counts().iteritems()}\n",
    "_dict_count_song_played_test = {k: v for k, v in test['song_id']\n",
    "                                .value_counts().iteritems()}\n",
    "\n",
    "def count_song_played(x):\n",
    "    try:\n",
    "        return _dict_count_song_played_train[x]\n",
    "    except KeyError:\n",
    "        try:\n",
    "            return _dict_count_song_played_test[x]\n",
    "        except KeyError:\n",
    "            return 0\n",
    "    \n",
    "train['count_song_played'] = train['song_id'].apply(count_song_played).astype(np.int64)\n",
    "test['count_song_played'] = test['song_id'].apply(count_song_played).astype(np.int64)\n",
    "\n",
    "# number of times the artist has been played\n",
    "_dict_count_artist_played_train = {k: v for k, v in train['artist_name']\n",
    "                                   .value_counts().iteritems()}\n",
    "_dict_count_artist_played_test = {k: v for k, v in test['artist_name']\n",
    "                                  .value_counts().iteritems()}\n",
    "\n",
    "def count_artist_played(x):\n",
    "    try:\n",
    "        return _dict_count_artist_played_train[x]\n",
    "    except KeyError:\n",
    "        try:\n",
    "            return _dict_count_artist_played_test[x]\n",
    "        except KeyError:\n",
    "            return 0\n",
    "\n",
    "train['count_artist_played'] = train['artist_name'].apply(count_artist_played).astype(np.int64)\n",
    "test['count_artist_played'] = test['artist_name'].apply(count_artist_played).astype(np.int64)\n",
    "\n",
    "\n",
    "print(\"Done adding features\")"
   ]
  },
  {
   "cell_type": "code",
   "execution_count": 14,
   "metadata": {
    "ExecuteTime": {
     "end_time": "2018-12-05T04:16:06.970173Z",
     "start_time": "2018-12-05T04:16:06.956765Z"
    }
   },
   "outputs": [],
   "source": [
    "#testing the functions\n",
    "\n",
    "#testing song_lang_boolean\n",
    "assert train['song_lang_boolean'][0] == 0\n",
    "assert train['song_lang_boolean'][58] == 1\n",
    "\n",
    "#testing smaller_song\n",
    "assert len(test['smaller_song']) != 0\n",
    "assert len(train['smaller_song']) != 0\n",
    "\n",
    "#testing count_song_played\n",
    "assert 'count_song_played' in train\n",
    "assert len(train['count_artist_played']) != 0\n",
    "assert 'count_song_played' in test\n",
    "assert len(test['count_artist_played']) != 0"
   ]
  },
  {
   "cell_type": "markdown",
   "metadata": {},
   "source": [
    "Next, let's create train, test and validation sets from the original data."
   ]
  },
  {
   "cell_type": "markdown",
   "metadata": {},
   "source": [
    "# 4. Saving the data to local"
   ]
  },
  {
   "cell_type": "markdown",
   "metadata": {},
   "source": [
    "We will save the data to the local for future use."
   ]
  },
  {
   "cell_type": "code",
   "execution_count": 2,
   "metadata": {
    "ExecuteTime": {
     "end_time": "2018-12-05T04:21:02.900834Z",
     "start_time": "2018-12-05T04:17:16.973615Z"
    }
   },
   "outputs": [],
   "source": [
    "train.to_csv(\"processed_train_1.csv\") #Saving file to local\n",
    "test.to_csv(\"test_1.csv\") #Saving test file to local"
   ]
  },
  {
   "cell_type": "code",
   "execution_count": 17,
   "metadata": {
    "ExecuteTime": {
     "end_time": "2018-12-05T04:21:02.946343Z",
     "start_time": "2018-12-05T04:21:02.907391Z"
    }
   },
   "outputs": [],
   "source": [
    "del songs_extra #Removing unwanted data from memory"
   ]
  },
  {
   "cell_type": "code",
   "execution_count": 18,
   "metadata": {
    "ExecuteTime": {
     "end_time": "2018-12-05T04:21:03.204876Z",
     "start_time": "2018-12-05T04:21:02.948009Z"
    }
   },
   "outputs": [
    {
     "data": {
      "text/plain": [
       "140"
      ]
     },
     "execution_count": 18,
     "metadata": {},
     "output_type": "execute_result"
    }
   ],
   "source": [
    "gc.collect()"
   ]
  },
  {
   "cell_type": "markdown",
   "metadata": {},
   "source": [
    "Now let's read the processed data back in the memory. "
   ]
  },
  {
   "cell_type": "code",
   "execution_count": 5,
   "metadata": {
    "ExecuteTime": {
     "end_time": "2018-12-06T11:28:24.215154Z",
     "start_time": "2018-12-06T11:27:43.060318Z"
    }
   },
   "outputs": [],
   "source": [
    "data = pd.read_csv(\"processed_train_1.csv\") "
   ]
  },
  {
   "cell_type": "code",
   "execution_count": 6,
   "metadata": {
    "ExecuteTime": {
     "end_time": "2018-12-06T11:28:24.240817Z",
     "start_time": "2018-12-06T11:28:24.216800Z"
    }
   },
   "outputs": [
    {
     "data": {
      "text/html": [
       "<div>\n",
       "<style scoped>\n",
       "    .dataframe tbody tr th:only-of-type {\n",
       "        vertical-align: middle;\n",
       "    }\n",
       "\n",
       "    .dataframe tbody tr th {\n",
       "        vertical-align: top;\n",
       "    }\n",
       "\n",
       "    .dataframe thead th {\n",
       "        text-align: right;\n",
       "    }\n",
       "</style>\n",
       "<table border=\"1\" class=\"dataframe\">\n",
       "  <thead>\n",
       "    <tr style=\"text-align: right;\">\n",
       "      <th></th>\n",
       "      <th>Unnamed: 0</th>\n",
       "      <th>msno</th>\n",
       "      <th>song_id</th>\n",
       "      <th>source_system_tab</th>\n",
       "      <th>source_screen_name</th>\n",
       "      <th>source_type</th>\n",
       "      <th>target</th>\n",
       "      <th>song_length</th>\n",
       "      <th>genre_ids</th>\n",
       "      <th>artist_name</th>\n",
       "      <th>...</th>\n",
       "      <th>lyricists_count</th>\n",
       "      <th>composer_count</th>\n",
       "      <th>is_featured</th>\n",
       "      <th>artist_count</th>\n",
       "      <th>artist_composer</th>\n",
       "      <th>artist_composer_lyricist</th>\n",
       "      <th>song_lang_boolean</th>\n",
       "      <th>smaller_song</th>\n",
       "      <th>count_song_played</th>\n",
       "      <th>count_artist_played</th>\n",
       "    </tr>\n",
       "  </thead>\n",
       "  <tbody>\n",
       "    <tr>\n",
       "      <th>0</th>\n",
       "      <td>0</td>\n",
       "      <td>FGtllVqz18RPiwJj/edr2gV78zirAiY/9SmYvia+kCg=</td>\n",
       "      <td>BBzumQNXUHKdEBOB7mAJuzok+IJA1c2Ryg/yzTF6tik=</td>\n",
       "      <td>explore</td>\n",
       "      <td>Explore</td>\n",
       "      <td>online-playlist</td>\n",
       "      <td>1</td>\n",
       "      <td>206471</td>\n",
       "      <td>359</td>\n",
       "      <td>Bastille</td>\n",
       "      <td>...</td>\n",
       "      <td>1</td>\n",
       "      <td>2</td>\n",
       "      <td>0</td>\n",
       "      <td>0</td>\n",
       "      <td>0</td>\n",
       "      <td>0</td>\n",
       "      <td>0</td>\n",
       "      <td>1</td>\n",
       "      <td>215</td>\n",
       "      <td>1140</td>\n",
       "    </tr>\n",
       "    <tr>\n",
       "      <th>1</th>\n",
       "      <td>1</td>\n",
       "      <td>Xumu+NIjS6QYVxDS4/t3SawvJ7viT9hPKXmf0RtLNx8=</td>\n",
       "      <td>bhp/MpSNoqoxOIB+/l8WPqu6jldth4DIpCm3ayXnJqM=</td>\n",
       "      <td>my library</td>\n",
       "      <td>Local playlist more</td>\n",
       "      <td>local-playlist</td>\n",
       "      <td>1</td>\n",
       "      <td>284584</td>\n",
       "      <td>1259</td>\n",
       "      <td>Various Artists</td>\n",
       "      <td>...</td>\n",
       "      <td>1</td>\n",
       "      <td>1</td>\n",
       "      <td>0</td>\n",
       "      <td>0</td>\n",
       "      <td>0</td>\n",
       "      <td>0</td>\n",
       "      <td>0</td>\n",
       "      <td>0</td>\n",
       "      <td>1</td>\n",
       "      <td>303616</td>\n",
       "    </tr>\n",
       "    <tr>\n",
       "      <th>2</th>\n",
       "      <td>2</td>\n",
       "      <td>Xumu+NIjS6QYVxDS4/t3SawvJ7viT9hPKXmf0RtLNx8=</td>\n",
       "      <td>JNWfrrC7zNN7BdMpsISKa4Mw+xVJYNnxXh3/Epw7QgY=</td>\n",
       "      <td>my library</td>\n",
       "      <td>Local playlist more</td>\n",
       "      <td>local-playlist</td>\n",
       "      <td>1</td>\n",
       "      <td>225396</td>\n",
       "      <td>1259</td>\n",
       "      <td>Nas</td>\n",
       "      <td>...</td>\n",
       "      <td>1</td>\n",
       "      <td>1</td>\n",
       "      <td>0</td>\n",
       "      <td>0</td>\n",
       "      <td>0</td>\n",
       "      <td>0</td>\n",
       "      <td>0</td>\n",
       "      <td>1</td>\n",
       "      <td>4</td>\n",
       "      <td>289</td>\n",
       "    </tr>\n",
       "    <tr>\n",
       "      <th>3</th>\n",
       "      <td>3</td>\n",
       "      <td>Xumu+NIjS6QYVxDS4/t3SawvJ7viT9hPKXmf0RtLNx8=</td>\n",
       "      <td>2A87tzfnJTSWqD7gIZHisolhe4DMdzkbd6LzO1KHjNs=</td>\n",
       "      <td>my library</td>\n",
       "      <td>Local playlist more</td>\n",
       "      <td>local-playlist</td>\n",
       "      <td>1</td>\n",
       "      <td>255512</td>\n",
       "      <td>1019</td>\n",
       "      <td>Soundway</td>\n",
       "      <td>...</td>\n",
       "      <td>1</td>\n",
       "      <td>1</td>\n",
       "      <td>0</td>\n",
       "      <td>0</td>\n",
       "      <td>0</td>\n",
       "      <td>0</td>\n",
       "      <td>0</td>\n",
       "      <td>0</td>\n",
       "      <td>1</td>\n",
       "      <td>1</td>\n",
       "    </tr>\n",
       "    <tr>\n",
       "      <th>4</th>\n",
       "      <td>4</td>\n",
       "      <td>FGtllVqz18RPiwJj/edr2gV78zirAiY/9SmYvia+kCg=</td>\n",
       "      <td>3qm6XTZ6MOCU11x8FIVbAGH5l5uMkT3/ZalWG1oo2Gc=</td>\n",
       "      <td>explore</td>\n",
       "      <td>Explore</td>\n",
       "      <td>online-playlist</td>\n",
       "      <td>1</td>\n",
       "      <td>187802</td>\n",
       "      <td>1011</td>\n",
       "      <td>Brett Young</td>\n",
       "      <td>...</td>\n",
       "      <td>1</td>\n",
       "      <td>3</td>\n",
       "      <td>0</td>\n",
       "      <td>0</td>\n",
       "      <td>0</td>\n",
       "      <td>0</td>\n",
       "      <td>0</td>\n",
       "      <td>1</td>\n",
       "      <td>412</td>\n",
       "      <td>427</td>\n",
       "    </tr>\n",
       "  </tbody>\n",
       "</table>\n",
       "<p>5 rows × 36 columns</p>\n",
       "</div>"
      ],
      "text/plain": [
       "   Unnamed: 0                                          msno  \\\n",
       "0           0  FGtllVqz18RPiwJj/edr2gV78zirAiY/9SmYvia+kCg=   \n",
       "1           1  Xumu+NIjS6QYVxDS4/t3SawvJ7viT9hPKXmf0RtLNx8=   \n",
       "2           2  Xumu+NIjS6QYVxDS4/t3SawvJ7viT9hPKXmf0RtLNx8=   \n",
       "3           3  Xumu+NIjS6QYVxDS4/t3SawvJ7viT9hPKXmf0RtLNx8=   \n",
       "4           4  FGtllVqz18RPiwJj/edr2gV78zirAiY/9SmYvia+kCg=   \n",
       "\n",
       "                                        song_id source_system_tab  \\\n",
       "0  BBzumQNXUHKdEBOB7mAJuzok+IJA1c2Ryg/yzTF6tik=           explore   \n",
       "1  bhp/MpSNoqoxOIB+/l8WPqu6jldth4DIpCm3ayXnJqM=        my library   \n",
       "2  JNWfrrC7zNN7BdMpsISKa4Mw+xVJYNnxXh3/Epw7QgY=        my library   \n",
       "3  2A87tzfnJTSWqD7gIZHisolhe4DMdzkbd6LzO1KHjNs=        my library   \n",
       "4  3qm6XTZ6MOCU11x8FIVbAGH5l5uMkT3/ZalWG1oo2Gc=           explore   \n",
       "\n",
       "    source_screen_name      source_type  target  song_length genre_ids  \\\n",
       "0              Explore  online-playlist       1       206471       359   \n",
       "1  Local playlist more   local-playlist       1       284584      1259   \n",
       "2  Local playlist more   local-playlist       1       225396      1259   \n",
       "3  Local playlist more   local-playlist       1       255512      1019   \n",
       "4              Explore  online-playlist       1       187802      1011   \n",
       "\n",
       "       artist_name         ...          lyricists_count composer_count  \\\n",
       "0         Bastille         ...                        1              2   \n",
       "1  Various Artists         ...                        1              1   \n",
       "2              Nas         ...                        1              1   \n",
       "3         Soundway         ...                        1              1   \n",
       "4      Brett Young         ...                        1              3   \n",
       "\n",
       "   is_featured  artist_count  artist_composer artist_composer_lyricist  \\\n",
       "0            0             0                0                        0   \n",
       "1            0             0                0                        0   \n",
       "2            0             0                0                        0   \n",
       "3            0             0                0                        0   \n",
       "4            0             0                0                        0   \n",
       "\n",
       "   song_lang_boolean  smaller_song  count_song_played  count_artist_played  \n",
       "0                  0             1                215                 1140  \n",
       "1                  0             0                  1               303616  \n",
       "2                  0             1                  4                  289  \n",
       "3                  0             0                  1                    1  \n",
       "4                  0             1                412                  427  \n",
       "\n",
       "[5 rows x 36 columns]"
      ]
     },
     "execution_count": 6,
     "metadata": {},
     "output_type": "execute_result"
    }
   ],
   "source": [
    "data.head()"
   ]
  },
  {
   "cell_type": "code",
   "execution_count": 7,
   "metadata": {
    "ExecuteTime": {
     "end_time": "2018-12-06T11:28:47.969486Z",
     "start_time": "2018-12-06T11:28:46.959274Z"
    }
   },
   "outputs": [],
   "source": [
    "train = data.drop(data.columns[0], axis=1)"
   ]
  },
  {
   "cell_type": "markdown",
   "metadata": {},
   "source": [
    "In the below grid, we extract the training and target values from the data"
   ]
  },
  {
   "cell_type": "code",
   "execution_count": 8,
   "metadata": {
    "ExecuteTime": {
     "end_time": "2018-12-06T11:29:38.423372Z",
     "start_time": "2018-12-06T11:29:24.459650Z"
    }
   },
   "outputs": [],
   "source": [
    "#Converting the columns to category wherever needed\n",
    "for col in train.columns:\n",
    "    if train[col].dtype == object:\n",
    "        train[col] = train[col].astype('category')        \n",
    "\n",
    "y_train = train['target'].values\n",
    "X_train = train.drop(['target'], axis=1)"
   ]
  },
  {
   "cell_type": "code",
   "execution_count": 9,
   "metadata": {
    "ExecuteTime": {
     "end_time": "2018-12-06T11:30:00.498597Z",
     "start_time": "2018-12-06T11:30:00.459568Z"
    }
   },
   "outputs": [
    {
     "data": {
      "text/plain": [
       "14"
      ]
     },
     "execution_count": 9,
     "metadata": {},
     "output_type": "execute_result"
    }
   ],
   "source": [
    "del train\n",
    "gc.collect()"
   ]
  },
  {
   "cell_type": "markdown",
   "metadata": {},
   "source": [
    "The below grid would split the data into train, validation and test sets."
   ]
  },
  {
   "cell_type": "code",
   "execution_count": 10,
   "metadata": {
    "ExecuteTime": {
     "end_time": "2018-12-06T11:30:12.360751Z",
     "start_time": "2018-12-06T11:30:04.730465Z"
    }
   },
   "outputs": [],
   "source": [
    "from sklearn.model_selection import train_test_split\n",
    "X_train_all, X_test, y_train_all, y_test = train_test_split(X_train, y_train,\n",
    "                                                            test_size=0.2)\n",
    "\n",
    "X_train, X_val, y_train, y_val = train_test_split(X_train_all, y_train_all,\n",
    "                                                  test_size=0.2)"
   ]
  },
  {
   "cell_type": "code",
   "execution_count": 11,
   "metadata": {
    "ExecuteTime": {
     "end_time": "2018-12-06T11:30:18.846067Z",
     "start_time": "2018-12-06T11:30:18.799828Z"
    }
   },
   "outputs": [
    {
     "data": {
      "text/html": [
       "<div>\n",
       "<style scoped>\n",
       "    .dataframe tbody tr th:only-of-type {\n",
       "        vertical-align: middle;\n",
       "    }\n",
       "\n",
       "    .dataframe tbody tr th {\n",
       "        vertical-align: top;\n",
       "    }\n",
       "\n",
       "    .dataframe thead th {\n",
       "        text-align: right;\n",
       "    }\n",
       "</style>\n",
       "<table border=\"1\" class=\"dataframe\">\n",
       "  <thead>\n",
       "    <tr style=\"text-align: right;\">\n",
       "      <th></th>\n",
       "      <th>msno</th>\n",
       "      <th>song_id</th>\n",
       "      <th>source_system_tab</th>\n",
       "      <th>source_screen_name</th>\n",
       "      <th>source_type</th>\n",
       "      <th>song_length</th>\n",
       "      <th>genre_ids</th>\n",
       "      <th>artist_name</th>\n",
       "      <th>composer</th>\n",
       "      <th>lyricist</th>\n",
       "      <th>...</th>\n",
       "      <th>lyricists_count</th>\n",
       "      <th>composer_count</th>\n",
       "      <th>is_featured</th>\n",
       "      <th>artist_count</th>\n",
       "      <th>artist_composer</th>\n",
       "      <th>artist_composer_lyricist</th>\n",
       "      <th>song_lang_boolean</th>\n",
       "      <th>smaller_song</th>\n",
       "      <th>count_song_played</th>\n",
       "      <th>count_artist_played</th>\n",
       "    </tr>\n",
       "  </thead>\n",
       "  <tbody>\n",
       "    <tr>\n",
       "      <th>3080545</th>\n",
       "      <td>1Lshat/Jzw29ax/Z1BW8cbgqE9gwYQuNHAn1vyU4K6I=</td>\n",
       "      <td>Vh95vgpmcpdngmn7WrkbwnT4j+jjzf3hGb6GVTXQLzQ=</td>\n",
       "      <td>my library</td>\n",
       "      <td>Local playlist more</td>\n",
       "      <td>local-playlist</td>\n",
       "      <td>143464</td>\n",
       "      <td>921</td>\n",
       "      <td>ジブリサウンドトラック</td>\n",
       "      <td>NaN</td>\n",
       "      <td>NaN</td>\n",
       "      <td>...</td>\n",
       "      <td>1</td>\n",
       "      <td>1</td>\n",
       "      <td>0</td>\n",
       "      <td>0</td>\n",
       "      <td>0</td>\n",
       "      <td>0</td>\n",
       "      <td>1</td>\n",
       "      <td>1</td>\n",
       "      <td>19</td>\n",
       "      <td>13274</td>\n",
       "    </tr>\n",
       "    <tr>\n",
       "      <th>2066956</th>\n",
       "      <td>gDiC609oMU6T+KRowS1tySjuhzrHtsqFU6keH4VNgcY=</td>\n",
       "      <td>eSerI0GiRKmKVwhbY05QQi6DSRrCz4/vhiyvipqURDk=</td>\n",
       "      <td>search</td>\n",
       "      <td>Search</td>\n",
       "      <td>top-hits-for-artist</td>\n",
       "      <td>228832</td>\n",
       "      <td>465</td>\n",
       "      <td>aMEI (張惠妹)</td>\n",
       "      <td>Huang Yun Ren</td>\n",
       "      <td>Leng Wan Mei</td>\n",
       "      <td>...</td>\n",
       "      <td>1</td>\n",
       "      <td>1</td>\n",
       "      <td>0</td>\n",
       "      <td>0</td>\n",
       "      <td>0</td>\n",
       "      <td>0</td>\n",
       "      <td>0</td>\n",
       "      <td>1</td>\n",
       "      <td>2351</td>\n",
       "      <td>82799</td>\n",
       "    </tr>\n",
       "    <tr>\n",
       "      <th>4284632</th>\n",
       "      <td>Z56mxjHqnR1FK1d5gkf5ARTxwZF8h0HPI+rHFGRrMHo=</td>\n",
       "      <td>uF93OFuDNiSO4ZXM5HEwEzbxOOvZ+/wUPP7ewSaiMYg=</td>\n",
       "      <td>discover</td>\n",
       "      <td>Online playlist more</td>\n",
       "      <td>online-playlist</td>\n",
       "      <td>226089</td>\n",
       "      <td>1259</td>\n",
       "      <td>Gucci Mane</td>\n",
       "      <td>NaN</td>\n",
       "      <td>NaN</td>\n",
       "      <td>...</td>\n",
       "      <td>1</td>\n",
       "      <td>1</td>\n",
       "      <td>0</td>\n",
       "      <td>0</td>\n",
       "      <td>0</td>\n",
       "      <td>0</td>\n",
       "      <td>0</td>\n",
       "      <td>1</td>\n",
       "      <td>44</td>\n",
       "      <td>108</td>\n",
       "    </tr>\n",
       "    <tr>\n",
       "      <th>7079336</th>\n",
       "      <td>wgFA/GOJJh187r3NMqvpT22KeEuWhjm5dauTDzqn7F4=</td>\n",
       "      <td>InNESpQNc6sYaS6LD0mc4vtuIeUbfIqX2wM+8QgKxS4=</td>\n",
       "      <td>discover</td>\n",
       "      <td>Online playlist more</td>\n",
       "      <td>online-playlist</td>\n",
       "      <td>280346</td>\n",
       "      <td>458</td>\n",
       "      <td>池石鎮+胡琳</td>\n",
       "      <td>淩偉文</td>\n",
       "      <td>林明陽/十方</td>\n",
       "      <td>...</td>\n",
       "      <td>2</td>\n",
       "      <td>1</td>\n",
       "      <td>0</td>\n",
       "      <td>0</td>\n",
       "      <td>0</td>\n",
       "      <td>0</td>\n",
       "      <td>0</td>\n",
       "      <td>0</td>\n",
       "      <td>884</td>\n",
       "      <td>884</td>\n",
       "    </tr>\n",
       "    <tr>\n",
       "      <th>5710192</th>\n",
       "      <td>Z7EGGBgtVEPJmI7+RyTXLFZP/2i5O/UwaxSGpKX/FWM=</td>\n",
       "      <td>rFLawM8j/vW78o/S3P2GTsmy6HwkTI15P7NF/i9CkX4=</td>\n",
       "      <td>discover</td>\n",
       "      <td>Online playlist more</td>\n",
       "      <td>online-playlist</td>\n",
       "      <td>237505</td>\n",
       "      <td>465|458</td>\n",
       "      <td>林芯儀 (Shennio Lin)</td>\n",
       "      <td>吳姝霆</td>\n",
       "      <td>張鵬鵬</td>\n",
       "      <td>...</td>\n",
       "      <td>1</td>\n",
       "      <td>1</td>\n",
       "      <td>0</td>\n",
       "      <td>0</td>\n",
       "      <td>0</td>\n",
       "      <td>0</td>\n",
       "      <td>0</td>\n",
       "      <td>1</td>\n",
       "      <td>4775</td>\n",
       "      <td>12727</td>\n",
       "    </tr>\n",
       "  </tbody>\n",
       "</table>\n",
       "<p>5 rows × 34 columns</p>\n",
       "</div>"
      ],
      "text/plain": [
       "                                                 msno  \\\n",
       "3080545  1Lshat/Jzw29ax/Z1BW8cbgqE9gwYQuNHAn1vyU4K6I=   \n",
       "2066956  gDiC609oMU6T+KRowS1tySjuhzrHtsqFU6keH4VNgcY=   \n",
       "4284632  Z56mxjHqnR1FK1d5gkf5ARTxwZF8h0HPI+rHFGRrMHo=   \n",
       "7079336  wgFA/GOJJh187r3NMqvpT22KeEuWhjm5dauTDzqn7F4=   \n",
       "5710192  Z7EGGBgtVEPJmI7+RyTXLFZP/2i5O/UwaxSGpKX/FWM=   \n",
       "\n",
       "                                              song_id source_system_tab  \\\n",
       "3080545  Vh95vgpmcpdngmn7WrkbwnT4j+jjzf3hGb6GVTXQLzQ=        my library   \n",
       "2066956  eSerI0GiRKmKVwhbY05QQi6DSRrCz4/vhiyvipqURDk=            search   \n",
       "4284632  uF93OFuDNiSO4ZXM5HEwEzbxOOvZ+/wUPP7ewSaiMYg=          discover   \n",
       "7079336  InNESpQNc6sYaS6LD0mc4vtuIeUbfIqX2wM+8QgKxS4=          discover   \n",
       "5710192  rFLawM8j/vW78o/S3P2GTsmy6HwkTI15P7NF/i9CkX4=          discover   \n",
       "\n",
       "           source_screen_name          source_type  song_length genre_ids  \\\n",
       "3080545   Local playlist more       local-playlist       143464       921   \n",
       "2066956                Search  top-hits-for-artist       228832       465   \n",
       "4284632  Online playlist more      online-playlist       226089      1259   \n",
       "7079336  Online playlist more      online-playlist       280346       458   \n",
       "5710192  Online playlist more      online-playlist       237505   465|458   \n",
       "\n",
       "               artist_name       composer      lyricist         ...           \\\n",
       "3080545        ジブリサウンドトラック            NaN           NaN         ...            \n",
       "2066956         aMEI (張惠妹)  Huang Yun Ren  Leng Wan Mei         ...            \n",
       "4284632         Gucci Mane            NaN           NaN         ...            \n",
       "7079336             池石鎮+胡琳            淩偉文        林明陽/十方         ...            \n",
       "5710192  林芯儀 (Shennio Lin)            吳姝霆           張鵬鵬         ...            \n",
       "\n",
       "         lyricists_count  composer_count  is_featured artist_count  \\\n",
       "3080545                1               1            0            0   \n",
       "2066956                1               1            0            0   \n",
       "4284632                1               1            0            0   \n",
       "7079336                2               1            0            0   \n",
       "5710192                1               1            0            0   \n",
       "\n",
       "         artist_composer  artist_composer_lyricist  song_lang_boolean  \\\n",
       "3080545                0                         0                  1   \n",
       "2066956                0                         0                  0   \n",
       "4284632                0                         0                  0   \n",
       "7079336                0                         0                  0   \n",
       "5710192                0                         0                  0   \n",
       "\n",
       "         smaller_song  count_song_played  count_artist_played  \n",
       "3080545             1                 19                13274  \n",
       "2066956             1               2351                82799  \n",
       "4284632             1                 44                  108  \n",
       "7079336             0                884                  884  \n",
       "5710192             1               4775                12727  \n",
       "\n",
       "[5 rows x 34 columns]"
      ]
     },
     "execution_count": 11,
     "metadata": {},
     "output_type": "execute_result"
    }
   ],
   "source": [
    "X_train.head()"
   ]
  },
  {
   "cell_type": "markdown",
   "metadata": {},
   "source": [
    "# 5. Model Fitting"
   ]
  },
  {
   "cell_type": "markdown",
   "metadata": {},
   "source": [
    "In the below steps we fit LightGBM model on various data sets to improve the accuracy of the predictions."
   ]
  },
  {
   "cell_type": "markdown",
   "metadata": {},
   "source": [
    "#### 5.1 Taking a small sample of data for our first fit"
   ]
  },
  {
   "cell_type": "code",
   "execution_count": 12,
   "metadata": {
    "ExecuteTime": {
     "end_time": "2018-12-06T11:31:37.259010Z",
     "start_time": "2018-12-06T11:31:36.481395Z"
    }
   },
   "outputs": [],
   "source": [
    "# Sampled train data\n",
    "idx = random.sample(range(0,X_train.shape[0]), 500000)\n",
    "y_train = pd.DataFrame(y_train)\n",
    "X_train_sampled = X_train.iloc[idx]\n",
    "y_train_sampled = y_train.iloc[idx]"
   ]
  },
  {
   "cell_type": "markdown",
   "metadata": {},
   "source": [
    "#### 5.2 Let's try to fit a small model to visualise the splitting"
   ]
  },
  {
   "cell_type": "markdown",
   "metadata": {},
   "source": [
    "For visualization purpose we fit a small model having tree depth of 3. "
   ]
  },
  {
   "cell_type": "code",
   "execution_count": 13,
   "metadata": {
    "ExecuteTime": {
     "end_time": "2018-12-06T19:06:21.911306Z",
     "start_time": "2018-12-06T19:05:50.346171Z"
    }
   },
   "outputs": [
    {
     "data": {
      "text/plain": [
       "LGBMClassifier(boosting='gbdt', boosting_type='gbdt', class_weight=None,\n",
       "        colsample_bytree=1.0, eval_metric='binary_logloss',\n",
       "        importance_type='split', learning_rate=0.3, max_depth=2,\n",
       "        min_child_samples=20, min_child_weight=0.001, min_split_gain=0.0,\n",
       "        n_estimators=100, n_jobs=-1, num_leaves=31, objective='binary',\n",
       "        random_state=None, reg_alpha=0.0, reg_lambda=0.0, silent=True,\n",
       "        subsample=1.0, subsample_for_bin=200000, subsample_freq=0,\n",
       "        verbose=0)"
      ]
     },
     "execution_count": 13,
     "metadata": {},
     "output_type": "execute_result"
    }
   ],
   "source": [
    "small_model = lgb.sklearn.LGBMClassifier(objective='binary',\n",
    "                                         eval_metric='binary_logloss',\n",
    "                                         boosting='gbdt',\n",
    "                                         learning_rate=0.3,\n",
    "                                         verbose=0,\n",
    "                                         max_depth= 2)\n",
    "\n",
    "small_model.fit(X_train, y_train)"
   ]
  },
  {
   "cell_type": "code",
   "execution_count": 14,
   "metadata": {
    "ExecuteTime": {
     "end_time": "2018-12-06T19:06:31.947735Z",
     "start_time": "2018-12-06T19:06:31.238682Z"
    }
   },
   "outputs": [
    {
     "name": "stdout",
     "output_type": "stream",
     "text": [
      "Plotting tree...\n"
     ]
    },
    {
     "data": {
      "image/png": "[encoded data removed]",
      "text/plain": [
       "<Figure size 1440x576 with 1 Axes>"
      ]
     },
     "metadata": {},
     "output_type": "display_data"
    }
   ],
   "source": [
    "print('Plotting tree...')  # one tree use categorical feature to split\n",
    "ax = lgb.plot_tree(small_model, tree_index=1, figsize=(20, 8))\n",
    "plt.show()"
   ]
  },
  {
   "cell_type": "markdown",
   "metadata": {},
   "source": [
    "From the above tree we can see the features which were given the most importance. The first split happens on Source_type followed by songs played which indicates that these 2 features are the most important when the maxdepth is 3"
   ]
  },
  {
   "cell_type": "markdown",
   "metadata": {},
   "source": [
    "#### 5.3 Next model is on a sample of .5 million data points"
   ]
  },
  {
   "cell_type": "code",
   "execution_count": 15,
   "metadata": {
    "ExecuteTime": {
     "end_time": "2018-12-06T19:10:15.486528Z",
     "start_time": "2018-12-06T19:06:59.529277Z"
    }
   },
   "outputs": [
    {
     "data": {
      "text/plain": [
       "LGBMClassifier(bagging_freq=1, bagging_seed=1, boosting='gbdt',\n",
       "        boosting_type='gbdt', class_weight=None, colsample_bytree=1.0,\n",
       "        eval_metric='binary_logloss', feature_fraction=0.9,\n",
       "        feature_fraction_seed=1, importance_type='split',\n",
       "        learning_rate=0.3, max_bin=256, max_depth=300,\n",
       "        min_child_samples=20, min_child_weight=0.001, min_split_gain=0.0,\n",
       "        n_estimators=100, n_jobs=-1, num_leaves=600, num_rounds=200,\n",
       "        objective='binary', random_state=None, reg_alpha=0.0,\n",
       "        reg_lambda=0.0, silent=True, subsample=1.0,\n",
       "        subsample_for_bin=200000, subsample_freq=0, verbose=0)"
      ]
     },
     "execution_count": 15,
     "metadata": {},
     "output_type": "execute_result"
    }
   ],
   "source": [
    "#Fitting a model on sampled data\n",
    "sk_reg = lgb.sklearn.LGBMClassifier(\n",
    "         objective='binary',\n",
    "         eval_metric='binary_logloss',\n",
    "         boosting='gbdt',\n",
    "         learning_rate=0.3 ,\n",
    "         verbose=0,\n",
    "         num_leaves=600,\n",
    "         bagging_freq= 1,\n",
    "         feature_fraction= 0.9,\n",
    "         max_bin= 256,\n",
    "         max_depth= 300,\n",
    "         num_rounds= 200,\n",
    ")\n",
    "\n",
    "\n",
    "sk_reg.fit(X_train_sampled, y_train_sampled)"
   ]
  },
  {
   "cell_type": "code",
   "execution_count": 16,
   "metadata": {
    "ExecuteTime": {
     "end_time": "2018-12-06T19:18:12.404918Z",
     "start_time": "2018-12-06T19:10:35.630170Z"
    }
   },
   "outputs": [
    {
     "name": "stdout",
     "output_type": "stream",
     "text": [
      "Mean accuracy score: 0.685\n"
     ]
    }
   ],
   "source": [
    "predicted = sk_reg.predict(X_val)\n",
    "accuracy = accuracy_score(y_val, predicted)\n",
    "print(f'Mean accuracy score: {accuracy:.3}')"
   ]
  },
  {
   "cell_type": "markdown",
   "metadata": {},
   "source": [
    "We can see that the accuracy of the model is .685 on the sampled data set. Next, let's check the features which were given the most importance in the feature selection section."
   ]
  },
  {
   "cell_type": "markdown",
   "metadata": {},
   "source": [
    "#### 5.4 Feature selection"
   ]
  },
  {
   "cell_type": "markdown",
   "metadata": {},
   "source": [
    "In the below grid we will see the feature importance for the above model"
   ]
  },
  {
   "cell_type": "code",
   "execution_count": 17,
   "metadata": {
    "ExecuteTime": {
     "end_time": "2018-12-06T11:59:05.463853Z",
     "start_time": "2018-12-06T11:59:05.177981Z"
    }
   },
   "outputs": [
    {
     "name": "stdout",
     "output_type": "stream",
     "text": [
      "                   cols    imp\n",
      "0                  msno  37637\n",
      "32    count_song_played  11544\n",
      "1               song_id  11347\n",
      "7           artist_name   8607\n",
      "5           song_length   6228\n",
      "33  count_artist_played   5983\n",
      "16      membership_days   5044\n",
      "8              composer   4990\n",
      "22            song_year   3993\n",
      "19    registration_date   3642\n"
     ]
    },
    {
     "data": {
      "image/png": "[encoded data removed]",
      "text/plain": [
       "<Figure size 864x504 with 1 Axes>"
      ]
     },
     "metadata": {},
     "output_type": "display_data"
    }
   ],
   "source": [
    "### Feature selection\n",
    "\n",
    "def lgb_feat_importance(m, df):\n",
    "    return pd.DataFrame({'cols':df.columns, 'imp':m.feature_importances_}\n",
    "                       ).sort_values('imp', ascending=False)\n",
    "\n",
    "fi = lgb_feat_importance(sk_reg, X_train_sampled ); \n",
    "print(fi[:10])\n",
    "\n",
    "def plot_fi(fi):return fi.plot('cols', 'imp', 'barh',\n",
    "                               figsize=(12,7), legend=False)\n",
    "plot_fi(fi[:30])\n",
    "plt.show()"
   ]
  },
  {
   "cell_type": "markdown",
   "metadata": {},
   "source": [
    "From the above graph, we can see that the most important feature for the above model was msno. which means that the most important feature that the model depends on is the user who is listening to the song, followed by the number of times the song was played. "
   ]
  },
  {
   "cell_type": "markdown",
   "metadata": {},
   "source": [
    "#### 5.5 Next, we do a grid search to get the best parameters with maximum accuracy on sampled data"
   ]
  },
  {
   "cell_type": "markdown",
   "metadata": {},
   "source": [
    "The below code would give us the best parameters with maximum accuracy on predicted variable."
   ]
  },
  {
   "cell_type": "code",
   "execution_count": 29,
   "metadata": {
    "ExecuteTime": {
     "end_time": "2018-12-06T19:57:29.989807Z",
     "start_time": "2018-12-06T19:18:50.024367Z"
    }
   },
   "outputs": [
    {
     "data": {
      "text/plain": [
       "'0.6851'"
      ]
     },
     "execution_count": 29,
     "metadata": {},
     "output_type": "execute_result"
    }
   ],
   "source": [
    "# Pipeline and grid search\n",
    "pipe_dt = Pipeline([('clf', lgb.sklearn.LGBMClassifier())]) # Estimator: ML algorithm\n",
    "\n",
    "grid_params = dict(\n",
    "         clf__objective=['binary'],\n",
    "         clf__eval_metric=['binary_logloss'],\n",
    "         clf__boosting_type=['gbdt'],\n",
    "         clf__learning_rate=[0.3] ,\n",
    "         clf__verbose=[0],\n",
    "         clf__num_leaves=[300, 350, 250],\n",
    "         clf__feature_fraction= [0.9],\n",
    "         clf__max_bin= [256],\n",
    "         clf__max_depth= [200, 150, 250],\n",
    "         clf__num_rounds= [200])\n",
    "gs = GridSearchCV(estimator=pipe_dt,  \n",
    "                  param_grid=grid_params,\n",
    "                  scoring='accuracy',\n",
    "                  cv=5)\n",
    "\n",
    "gs.fit(X_train_sampled, y_train_sampled)\n",
    "f\"{gs.score(X_test, y_test):.4f}\""
   ]
  },
  {
   "cell_type": "code",
   "execution_count": 18,
   "metadata": {
    "ExecuteTime": {
     "end_time": "2018-12-06T18:37:54.194812Z",
     "start_time": "2018-12-06T18:37:54.177970Z"
    }
   },
   "outputs": [
    {
     "name": "stdout",
     "output_type": "stream",
     "text": [
      "Pipeline(memory=None,\n",
      "     steps=[('clf', LGBMClassifier(boosting_type='gbdt', class_weight=None, colsample_bytree=1.0,\n",
      "        eval_metric='binary_logloss', feature_fraction=0.9,\n",
      "        feature_fraction_seed=1, importance_type='split',\n",
      "        learning_rate=0.3, max_bin=256, max_depth=250,\n",
      "        min_child_samples=20, min_...da=0.0, silent=True, subsample=1.0,\n",
      "        subsample_for_bin=200000, subsample_freq=0, verbose=0))])\n"
     ]
    },
    {
     "data": {
      "text/plain": [
       "LGBMClassifier(boosting_type='gbdt', class_weight=None, colsample_bytree=1.0,\n",
       "        eval_metric='binary_logloss', feature_fraction=0.9,\n",
       "        feature_fraction_seed=1, importance_type='split',\n",
       "        learning_rate=0.3, max_bin=256, max_depth=250,\n",
       "        min_child_samples=20, min_child_weight=0.001, min_split_gain=0.0,\n",
       "        n_estimators=100, n_jobs=-1, num_leaves=300, num_rounds=200,\n",
       "        objective='binary', random_state=None, reg_alpha=0.0,\n",
       "        reg_lambda=0.0, silent=True, subsample=1.0,\n",
       "        subsample_for_bin=200000, subsample_freq=0, verbose=0)"
      ]
     },
     "execution_count": 18,
     "metadata": {},
     "output_type": "execute_result"
    }
   ],
   "source": [
    "# Best algorithm with best hyperparameters \n",
    "# (need to fit it to find specific model parameters)\n",
    "print(gs.best_estimator_)\n",
    "\n",
    "# Best model with specific model parameters\n",
    "gs.best_estimator_.get_params()['clf']"
   ]
  },
  {
   "cell_type": "markdown",
   "metadata": {},
   "source": [
    "The best score that we get on the sampled data set is .685 with following best parameters:\n",
    "objective='binary',\n",
    "eval_metric='binary_logloss'\n",
    "boosting='gbdt'\n",
    "learning_rate=0.3 \n",
    "verbose=0\n",
    "num_leaves=600\n",
    "bagging_freq= 1\n",
    "feature_fraction=0.9\n",
    "max_bin=256\n",
    "max_depth=300\n",
    "num_rounds=200"
   ]
  },
  {
   "cell_type": "markdown",
   "metadata": {},
   "source": [
    "#### 5.6 Fitting Best Model on all the Data"
   ]
  },
  {
   "cell_type": "markdown",
   "metadata": {},
   "source": [
    "Next, we fit the best model that we got from the grid search to all the data that we have. This should give us a better accuracy."
   ]
  },
  {
   "cell_type": "code",
   "execution_count": 18,
   "metadata": {
    "ExecuteTime": {
     "end_time": "2018-12-06T20:03:50.524606Z",
     "start_time": "2018-12-06T20:03:50.485913Z"
    }
   },
   "outputs": [],
   "source": [
    "#Fitting the best model on all the data\n",
    "Final_model = lgb.sklearn.LGBMClassifier(objective='binary',\n",
    "                                         eval_metric='binary_logloss',\n",
    "                                         boosting='gbdt',\n",
    "                                         learning_rate=0.3 ,\n",
    "                                         verbose=0,\n",
    "                                         num_leaves=600,\n",
    "                                         bagging_freq= 1,\n",
    "                                         feature_fraction= 0.9,\n",
    "                                         max_bin= 256,\n",
    "                                         max_depth= 300,\n",
    "                                         num_rounds= 200)\n"
   ]
  },
  {
   "cell_type": "code",
   "execution_count": 19,
   "metadata": {
    "ExecuteTime": {
     "end_time": "2018-12-06T20:38:46.867929Z",
     "start_time": "2018-12-06T20:38:46.438057Z"
    }
   },
   "outputs": [
    {
     "name": "stdout",
     "output_type": "stream",
     "text": [
      "Mean accuracy score on validation: 0.742\n"
     ]
    }
   ],
   "source": [
    "#Validation accuracy\n",
    "Final_model.fit(X_train, y_train)\n",
    "predicted = Final_model.predict(X_val)\n",
    "accuracy = accuracy_score(y_val, predicted)\n",
    "print(f'Mean accuracy score on validation: {accuracy:.3}')"
   ]
  },
  {
   "cell_type": "markdown",
   "metadata": {},
   "source": [
    "We see that the validation accuracy is 0.742 which is more than what we were getting on the sampled data. Next, let's check the test accuracy."
   ]
  },
  {
   "cell_type": "code",
   "execution_count": 20,
   "metadata": {
    "ExecuteTime": {
     "end_time": "2018-12-06T19:00:26.894970Z",
     "start_time": "2018-12-06T18:54:20.287275Z"
    }
   },
   "outputs": [
    {
     "name": "stdout",
     "output_type": "stream",
     "text": [
      "Mean accuracy score test: 0.742\n"
     ]
    }
   ],
   "source": [
    "# Test accuracy\n",
    "predicted = Final_model.predict(X_test)\n",
    "accuracy = accuracy_score(y_test, predicted)\n",
    "print(f'Mean accuracy score test: {accuracy:.3}')"
   ]
  },
  {
   "cell_type": "markdown",
   "metadata": {},
   "source": [
    "The test accuracy is pretty close to the validation accuracy of 0.742 which suggests that we had a good split of test and validation sets. Also, our accuracy has increased from 68.5% to 74.2% just by increasing the data."
   ]
  },
  {
   "cell_type": "markdown",
   "metadata": {},
   "source": [
    "# 6. Evaluation Metric"
   ]
  },
  {
   "cell_type": "markdown",
   "metadata": {},
   "source": [
    "Let's create an evaluation metric to see the precision, recall and fscore of the best model."
   ]
  },
  {
   "cell_type": "code",
   "execution_count": 21,
   "metadata": {
    "ExecuteTime": {
     "end_time": "2018-12-06T19:00:27.279009Z",
     "start_time": "2018-12-06T19:00:26.897189Z"
    }
   },
   "outputs": [
    {
     "name": "stdout",
     "output_type": "stream",
     "text": [
      "precision: [0.73751855 0.74709601]\n",
      "recall: [0.74618197 0.73845285]\n",
      "fscore: [0.74182497 0.74274928]\n",
      "support: [732119 743365]\n"
     ]
    }
   ],
   "source": [
    "from sklearn.metrics import precision_recall_fscore_support as score\n",
    "precision, recall, fscore, support = score(y_test, predicted)\n",
    "print('precision: {}'.format(precision))\n",
    "print('recall: {}'.format(recall))\n",
    "print('fscore: {}'.format(fscore))\n",
    "print('support: {}'.format(support))\n"
   ]
  },
  {
   "cell_type": "markdown",
   "metadata": {},
   "source": [
    "Our precision and recalls are around 74% which is pretty good considering the amouont of data that was available."
   ]
  },
  {
   "cell_type": "markdown",
   "metadata": {},
   "source": [
    "#### 6.1 Confusion Matrix"
   ]
  },
  {
   "cell_type": "markdown",
   "metadata": {},
   "source": [
    "The below code would build a confusion matrix of the true and predicted labels."
   ]
  },
  {
   "cell_type": "code",
   "execution_count": 22,
   "metadata": {
    "ExecuteTime": {
     "end_time": "2018-12-06T19:02:51.622195Z",
     "start_time": "2018-12-06T19:02:50.524652Z"
    },
    "scrolled": true
   },
   "outputs": [
    {
     "name": "stdout",
     "output_type": "stream",
     "text": [
      "Confusion matrix, without normalization\n",
      "[[546294 185825]\n",
      " [194425 548940]]\n",
      "Normalized confusion matrix\n",
      "[[0.75 0.25]\n",
      " [0.26 0.74]]\n"
     ]
    },
    {
     "data": {
      "image/png": "[encoded data removed]",
      "text/plain": [
       "<Figure size 432x288 with 2 Axes>"
      ]
     },
     "metadata": {},
     "output_type": "display_data"
    },
    {
     "data": {
      "image/png": "[encoded data removed]",
      "text/plain": [
       "<Figure size 432x288 with 2 Axes>"
      ]
     },
     "metadata": {},
     "output_type": "display_data"
    }
   ],
   "source": [
    "import itertools\n",
    "from sklearn.metrics import confusion_matrix\n",
    "class_names = ['0','1']\n",
    "def plot_confusion_matrix(cm, classes,\n",
    "                          normalize=False,\n",
    "                          title='Confusion matrix',\n",
    "                          cmap=plt.cm.Blues):\n",
    "    \"\"\"\n",
    "    This function prints and plots the confusion matrix.\n",
    "    Normalization can be applied by setting `normalize=True`.\n",
    "    \"\"\"\n",
    "    if normalize:\n",
    "        cm = cm.astype('float') / cm.sum(axis=1)[:, np.newaxis]\n",
    "        print(\"Normalized confusion matrix\")\n",
    "    else:\n",
    "        print('Confusion matrix, without normalization')\n",
    "\n",
    "    print(cm)\n",
    "\n",
    "    plt.imshow(cm, interpolation='nearest', cmap=cmap)\n",
    "    plt.title(title)\n",
    "    plt.colorbar()\n",
    "    tick_marks = np.arange(2)\n",
    "    plt.xticks(tick_marks, classes, rotation=45)\n",
    "    plt.yticks(tick_marks, classes)\n",
    "\n",
    "    fmt = '.2f' if normalize else 'd'\n",
    "    thresh = cm.max() / 2.\n",
    "    for i, j in itertools.product(range(cm.shape[0]), range(cm.shape[1])):\n",
    "        plt.text(j, i, format(cm[i, j], fmt),\n",
    "                 horizontalalignment=\"center\",\n",
    "                 color=\"white\" if cm[i, j] > thresh else \"black\")\n",
    "\n",
    "    plt.ylabel('True label')\n",
    "    plt.xlabel('Predicted label')\n",
    "    plt.tight_layout()\n",
    "\n",
    "\n",
    "# Compute confusion matrix\n",
    "cnf_matrix = confusion_matrix(y_test, predicted)\n",
    "np.set_printoptions(precision=2)\n",
    "\n",
    "# Plot non-normalized confusion matrix\n",
    "plt.figure()\n",
    "plot_confusion_matrix(cnf_matrix, classes=class_names,\n",
    "                      title='Confusion matrix, without normalization')\n",
    "\n",
    "# Plot normalized confusion matrix\n",
    "plt.figure()\n",
    "plot_confusion_matrix(cnf_matrix, classes=class_names, normalize=True,\n",
    "                      title='Normalized confusion matrix')\n",
    "\n",
    "plt.show()"
   ]
  },
  {
   "cell_type": "markdown",
   "metadata": {},
   "source": [
    "From the above confusion matrix we can see that we are predicting the true labels right 75% of the time.\n"
   ]
  },
  {
   "cell_type": "code",
   "execution_count": 24,
   "metadata": {
    "ExecuteTime": {
     "end_time": "2018-12-06T20:03:39.708323Z",
     "start_time": "2018-12-06T20:03:39.687170Z"
    }
   },
   "outputs": [],
   "source": [
    "# Predict probability for ROC curve\n",
    "predicted = Final_model.predict_proba(X_test)"
   ]
  },
  {
   "cell_type": "markdown",
   "metadata": {},
   "source": [
    "#### 6.2 ROC curve "
   ]
  },
  {
   "cell_type": "code",
   "execution_count": 25,
   "metadata": {},
   "outputs": [
    {
     "data": {
      "image/png": "[encoded data removed]",
      "text/plain": [
       "<Figure size 432x288 with 1 Axes>"
      ]
     },
     "metadata": {},
     "output_type": "display_data"
    }
   ],
   "source": [
    "from sklearn.metrics import roc_curve, auc\n",
    "import matplotlib.pyplot as plt\n",
    "\n",
    "false_positive_rate, true_positive_rate, thresholds = roc_curve(\n",
    "    y_test, [i[1]for i in predicted])\n",
    "roc_auc = auc(false_positive_rate, true_positive_rate)\n",
    "\n",
    "plt.title('Receiver Operating Characteristic')\n",
    "plt.plot(false_positive_rate, true_positive_rate,\n",
    "         'b',label='AUC = %0.2f'% roc_auc)\n",
    "plt.legend(loc='lower right')\n",
    "plt.plot([0,1],[0,1],'r--')\n",
    "plt.xlim([0,1])\n",
    "plt.ylim([0,1])\n",
    "plt.ylabel('True Positive Rate')\n",
    "plt.xlabel('False Positive Rate')\n",
    "plt.show()"
   ]
  },
  {
   "cell_type": "markdown",
   "metadata": {},
   "source": [
    "The AUC of the above curve is 0.82. "
   ]
  },
  {
   "cell_type": "markdown",
   "metadata": {},
   "source": [
    "# 7. Summary"
   ]
  },
  {
   "cell_type": "markdown",
   "metadata": {},
   "source": [
    "In this notebook, we fit Light GBM to the WSDM dataset. We build different models on sampled and whole dataset. The maximum accuracy we got was 75% which was on the whole data. We were able to improve the accuracy by extarcting momre features. For feature selection and benchmarking features please have a look at the below notebook - \n",
    "https://github.com/jyotipmahes/ML_project_621/blob/master/Models/Feature_Engg_Benchmark.ipynb"
   ]
  }
 ],
 "metadata": {
  "kernelspec": {
   "display_name": "Python 3",
   "language": "python",
   "name": "python3"
  },
  "language_info": {
   "codemirror_mode": {
    "name": "ipython",
    "version": 3
   },
   "file_extension": ".py",
   "mimetype": "text/x-python",
   "name": "python",
   "nbconvert_exporter": "python",
   "pygments_lexer": "ipython3",
   "version": "3.7.0"
  }
 },
 "nbformat": 4,
 "nbformat_minor": 2
}
