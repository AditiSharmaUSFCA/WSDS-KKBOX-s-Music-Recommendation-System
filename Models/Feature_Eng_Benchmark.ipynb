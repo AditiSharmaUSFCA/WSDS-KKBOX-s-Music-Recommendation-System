{
 "cells": [
  {
   "cell_type": "code",
   "execution_count": 3,
   "metadata": {},
   "outputs": [],
   "source": [
    "from summary_fn import *\n",
    "import numpy as np\n",
    "import pandas as pd\n",
    "import matplotlib.pyplot as plt\n",
    "from sklearn.model_selection import train_test_split\n",
    "from IPython.display import display\n",
    "from sklearn import metrics\n",
    "from sklearn.metrics import accuracy_score\n",
    "import re\n",
    "import random\n",
    "from sklearn import preprocessing\n",
    "from sklearn.linear_model import LogisticRegression\n",
    "from sklearn.ensemble import RandomForestClassifier\n",
    "import lightgbm as lgb\n",
    "from sklearn.neighbors import KNeighborsClassifier\n",
    "from sklearn.preprocessing import Imputer\n",
    "\n",
    "import warnings\n",
    "warnings.filterwarnings('ignore')"
   ]
  },
  {
   "cell_type": "code",
   "execution_count": 4,
   "metadata": {},
   "outputs": [],
   "source": [
    "# Import data\n",
    "data = pd.read_csv('features_train_data.csv')"
   ]
  },
  {
   "cell_type": "markdown",
   "metadata": {},
   "source": [
    "### Feature engineering for random forest\n"
   ]
  },
  {
   "cell_type": "code",
   "execution_count": 5,
   "metadata": {},
   "outputs": [],
   "source": [
    "# Normalize data\n",
    "hnorm_cols = ['msno_genre_count', 'source_system_tab_user_lev_c', 'source_screen_name_user_lev_c',\n",
    "              'source_type_user_lev_c', 'composer_user_lev_c', 'lyricist_user_lev_c', 'artist_name_user_lev_c']\n",
    "\n",
    "for i in hnorm_cols:\n",
    "    data[i] = data[i]/data['msno_appear_count']"
   ]
  },
  {
   "cell_type": "code",
   "execution_count": 6,
   "metadata": {},
   "outputs": [],
   "source": [
    "# Fill NA's before Normalization\n",
    "data.gener_count = data.gener_count.fillna(-1)"
   ]
  },
  {
   "cell_type": "code",
   "execution_count": 7,
   "metadata": {},
   "outputs": [],
   "source": [
    "# Drop less relevant columns\n",
    "data.drop(columns=['lyricist_count_y', 'composer_count_x',\n",
    "                   'gener_count'], inplace=True)"
   ]
  },
  {
   "cell_type": "markdown",
   "metadata": {},
   "source": [
    "### Imputation"
   ]
  },
  {
   "cell_type": "code",
   "execution_count": 8,
   "metadata": {},
   "outputs": [],
   "source": [
    "# Impute continuous columns\n",
    "na_continuous_col = ['msno_genre_count', 'source_system_tab_user_lev_c', 'source_screen_name_user_lev_c',\n",
    "                     'source_type_user_lev_c', 'artist_name_user_lev_c', 'composer_user_lev_c',\n",
    "                     'lyricist_user_lev_c']\n",
    "for col in na_continuous_col:\n",
    "    data[col] = data[col].fillna(-1)"
   ]
  },
  {
   "cell_type": "code",
   "execution_count": 9,
   "metadata": {},
   "outputs": [],
   "source": [
    "# Impute categorical columns\n",
    "data = data.fillna('NaN')"
   ]
  },
  {
   "cell_type": "code",
   "execution_count": 10,
   "metadata": {},
   "outputs": [],
   "source": [
    "# Label encoding for the categorical varaibles\n",
    "from sklearn import preprocessing\n",
    "\n",
    "\n",
    "def encoder(x_train):\n",
    "    le = preprocessing.LabelEncoder()\n",
    "    for column_name in x_train.columns:\n",
    "        if x_train[column_name].dtype.name in ['category', 'object']:\n",
    "            x_train[column_name] = le.fit_transform(\n",
    "                x_train[column_name].astype(str))\n",
    "\n",
    "\n",
    "# Encode the data\n",
    "encoder(data)"
   ]
  },
  {
   "cell_type": "markdown",
   "metadata": {},
   "source": [
    "## Model fitting with Feature Set 1"
   ]
  },
  {
   "cell_type": "code",
   "execution_count": 11,
   "metadata": {},
   "outputs": [],
   "source": [
    "# Features and target varaibles\n",
    "X = data.drop(columns='target', axis=1)\n",
    "y = data['target']\n",
    "\n",
    "# Train and test split\n",
    "X_train_all, X_test, y_train_all, y_test = train_test_split(\n",
    "    X, y, test_size=0.2)\n",
    "\n",
    "# Train and validation split\n",
    "X_train, X_val, y_train, y_val = train_test_split(\n",
    "    X_train_all, y_train_all, test_size=0.2)"
   ]
  },
  {
   "cell_type": "code",
   "execution_count": 12,
   "metadata": {},
   "outputs": [
    {
     "data": {
      "text/plain": [
       "14"
      ]
     },
     "execution_count": 12,
     "metadata": {},
     "output_type": "execute_result"
    }
   ],
   "source": [
    "import gc\n",
    "del data\n",
    "del X_train_all, y_train_all\n",
    "gc.collect()"
   ]
  },
  {
   "cell_type": "code",
   "execution_count": 13,
   "metadata": {},
   "outputs": [],
   "source": [
    "# Sampled data\n",
    "idx = random.sample(range(0, X_train.shape[0]), 100000)\n",
    "X_train_sampled = X_train.iloc[idx]\n",
    "y_train_sampled = y_train.iloc[idx]"
   ]
  },
  {
   "cell_type": "code",
   "execution_count": 14,
   "metadata": {},
   "outputs": [
    {
     "data": {
      "text/plain": [
       "0"
      ]
     },
     "execution_count": 14,
     "metadata": {},
     "output_type": "execute_result"
    }
   ],
   "source": [
    "del X_train\n",
    "del y_train\n",
    "gc.collect()"
   ]
  },
  {
   "cell_type": "code",
   "execution_count": 16,
   "metadata": {},
   "outputs": [
    {
     "name": "stdout",
     "output_type": "stream",
     "text": [
      "Mean accuracy score validation: 0.63\n"
     ]
    }
   ],
   "source": [
    "# Base line model for Logistic Regression\n",
    "from sklearn.metrics import accuracy_score\n",
    "m = LogisticRegression()\n",
    "m.fit(X_train_sampled, y_train_sampled)\n",
    "predicted = m.predict(X_val)\n",
    "accuracy = accuracy_score(y_val, predicted)\n",
    "print(f'Mean accuracy score validation: {accuracy:.3}')"
   ]
  },
  {
   "cell_type": "code",
   "execution_count": 15,
   "metadata": {},
   "outputs": [
    {
     "name": "stdout",
     "output_type": "stream",
     "text": [
      "Mean accuracy score validation: 0.626\n"
     ]
    }
   ],
   "source": [
    "# Base line model Random Forest\n",
    "from sklearn.metrics import accuracy_score\n",
    "m = RandomForestClassifier(n_jobs=-1)\n",
    "m.fit(X_train_sampled, y_train_sampled)\n",
    "predicted = m.predict(X_val)\n",
    "accuracy = accuracy_score(y_val, predicted)\n",
    "print(f'Mean accuracy score validation: {accuracy:.3}')"
   ]
  },
  {
   "cell_type": "code",
   "execution_count": 16,
   "metadata": {},
   "outputs": [
    {
     "name": "stdout",
     "output_type": "stream",
     "text": [
      "Mean accuracy score validation: 0.602\n"
     ]
    }
   ],
   "source": [
    "# Base line model for KNN\n",
    "from sklearn.metrics import accuracy_score\n",
    "m = KNeighborsClassifier(n_neighbors=5, n_jobs=-1)\n",
    "m.fit(X_train_sampled, y_train_sampled)\n",
    "predicted = m.predict(X_val)\n",
    "accuracy = accuracy_score(y_val, predicted)\n",
    "print(f'Mean accuracy score validation: {accuracy:.3}')"
   ]
  },
  {
   "cell_type": "code",
   "execution_count": 18,
   "metadata": {},
   "outputs": [
    {
     "name": "stdout",
     "output_type": "stream",
     "text": [
      "Mean accuracy score: 0.657\n"
     ]
    }
   ],
   "source": [
    "# Base Line model for LGBM\n",
    "sk_reg = lgb.sklearn.LGBMClassifier(\n",
    "    objective='binary',\n",
    "    eval_metric='binary_logloss',\n",
    "    boosting='gbdt',\n",
    "    learning_rate=0.3,\n",
    "    verbose=0,\n",
    "    num_leaves=600,\n",
    "    bagging_freq=1,\n",
    "    feature_fraction=0.9,\n",
    "    max_bin=256,\n",
    "    max_depth=300,\n",
    "    num_rounds=200,\n",
    ")\n",
    "\n",
    "\n",
    "sk_reg.fit(X_train_sampled, y_train_sampled)\n",
    "predicted = sk_reg.predict(X_val)\n",
    "accuracy = accuracy_score(y_val, predicted)\n",
    "print(f'Mean accuracy score: {accuracy:.3}')"
   ]
  },
  {
   "cell_type": "code",
   "execution_count": 23,
   "metadata": {},
   "outputs": [
    {
     "data": {
      "text/plain": [
       "427"
      ]
     },
     "execution_count": 23,
     "metadata": {},
     "output_type": "execute_result"
    }
   ],
   "source": [
    "del X_train_sampled\n",
    "del y_train_sampled\n",
    "del X_val\n",
    "del y_val\n",
    "del X_test\n",
    "del y_test\n",
    "gc.collect()"
   ]
  },
  {
   "cell_type": "markdown",
   "metadata": {},
   "source": [
    "# Model fitting fit features set 2"
   ]
  },
  {
   "cell_type": "code",
   "execution_count": 24,
   "metadata": {},
   "outputs": [],
   "source": [
    "# Import data with feature set2\n",
    "X_train = pd.read_csv('Helper_functions/X_train.csv')\n",
    "X_val = pd.read_csv('Helper_functions/X_val')"
   ]
  },
  {
   "cell_type": "code",
   "execution_count": 25,
   "metadata": {},
   "outputs": [],
   "source": [
    "y_train = X_train['y_train']\n",
    "X_train = X_train.drop(columns='y_train', axis=1)\n",
    "y_val = X_val['y_val']\n",
    "X_val = X_val.drop(columns='y_val', axis=1)"
   ]
  },
  {
   "cell_type": "code",
   "execution_count": 26,
   "metadata": {},
   "outputs": [],
   "source": [
    "# Sampled train data\n",
    "idx = random.sample(range(0, X_train.shape[0]), 100000)\n",
    "y_train = pd.DataFrame(y_train)\n",
    "X_train_sampled = X_train.iloc[idx]\n",
    "y_train_sampled = y_train.iloc[idx]"
   ]
  },
  {
   "cell_type": "code",
   "execution_count": 27,
   "metadata": {},
   "outputs": [
    {
     "data": {
      "text/plain": [
       "14"
      ]
     },
     "execution_count": 27,
     "metadata": {},
     "output_type": "execute_result"
    }
   ],
   "source": [
    "del X_train\n",
    "del y_train\n",
    "gc.collect()"
   ]
  },
  {
   "cell_type": "code",
   "execution_count": 30,
   "metadata": {},
   "outputs": [],
   "source": [
    "for col in X_train_sampled.columns:\n",
    "    if X_train_sampled[col].dtype == object:\n",
    "        X_train_sampled[col] = X_train_sampled[col].astype('category')\n",
    "\n",
    "for col in X_val.columns:\n",
    "    if X_val[col].dtype == object:\n",
    "        X_val[col] = X_val[col].astype('category')"
   ]
  },
  {
   "cell_type": "code",
   "execution_count": 31,
   "metadata": {},
   "outputs": [
    {
     "name": "stdout",
     "output_type": "stream",
     "text": [
      "Mean accuracy score: 0.641\n"
     ]
    }
   ],
   "source": [
    "# Base Line model for LGBM\n",
    "sk_reg = lgb.sklearn.LGBMClassifier(\n",
    "    objective='binary',\n",
    "    eval_metric='binary_logloss',\n",
    "    boosting='gbdt',\n",
    "    learning_rate=0.3,\n",
    "    verbose=0,\n",
    "    num_leaves=600,\n",
    "    bagging_freq=1,\n",
    "    feature_fraction=0.9,\n",
    "    max_bin=256,\n",
    "    max_depth=300,\n",
    "    num_rounds=200,\n",
    ")\n",
    "\n",
    "\n",
    "sk_reg.fit(X_train_sampled, y_train_sampled)\n",
    "predicted = sk_reg.predict(X_val)\n",
    "accuracy = accuracy_score(y_val, predicted)\n",
    "print(f'Mean accuracy score: {accuracy:.3}')"
   ]
  },
  {
   "cell_type": "code",
   "execution_count": 33,
   "metadata": {},
   "outputs": [],
   "source": [
    "# Encoding categorical variables\n",
    "encoder(X_train_sampled)\n",
    "encoder(X_val)"
   ]
  },
  {
   "cell_type": "code",
   "execution_count": 36,
   "metadata": {},
   "outputs": [],
   "source": [
    "# Impute NA values with -1\n",
    "X_train_sampled = X_train_sampled.fillna(-1)\n",
    "X_val = X_val.fillna(-1)"
   ]
  },
  {
   "cell_type": "code",
   "execution_count": 37,
   "metadata": {},
   "outputs": [
    {
     "name": "stdout",
     "output_type": "stream",
     "text": [
      "Mean accuracy score validation: 0.583\n"
     ]
    }
   ],
   "source": [
    "# Base line model fro Linear Regression\n",
    "from sklearn.metrics import accuracy_score\n",
    "m = LogisticRegression()\n",
    "m.fit(X_train_sampled, y_train_sampled)\n",
    "predicted = m.predict(X_val)\n",
    "accuracy = accuracy_score(y_val, predicted)\n",
    "print(f'Mean accuracy score validation: {accuracy:.3}')"
   ]
  },
  {
   "cell_type": "code",
   "execution_count": 38,
   "metadata": {},
   "outputs": [
    {
     "name": "stdout",
     "output_type": "stream",
     "text": [
      "Mean accuracy score validation: 0.567\n"
     ]
    }
   ],
   "source": [
    "# Base line model Random Forest\n",
    "from sklearn.metrics import accuracy_score\n",
    "m = RandomForestClassifier(n_jobs=-1)\n",
    "m.fit(X_train_sampled, y_train_sampled)\n",
    "predicted = m.predict(X_val)\n",
    "accuracy = accuracy_score(y_val, predicted)\n",
    "print(f'Mean accuracy score validation: {accuracy:.3}')"
   ]
  },
  {
   "cell_type": "code",
   "execution_count": 39,
   "metadata": {},
   "outputs": [
    {
     "name": "stdout",
     "output_type": "stream",
     "text": [
      "Mean accuracy score validation: 0.538\n"
     ]
    }
   ],
   "source": [
    "# Base line model for KNN\n",
    "from sklearn.metrics import accuracy_score\n",
    "m = KNeighborsClassifier(n_neighbors=5, n_jobs=-1)\n",
    "m.fit(X_train_sampled, y_train_sampled)\n",
    "predicted = m.predict(X_val)\n",
    "accuracy = accuracy_score(y_val, predicted)\n",
    "print(f'Mean accuracy score validation: {accuracy:.3}')"
   ]
  },
  {
   "cell_type": "code",
   "execution_count": null,
   "metadata": {},
   "outputs": [],
   "source": []
  }
 ],
 "metadata": {
  "kernelspec": {
   "display_name": "Python 3",
   "language": "python",
   "name": "python3"
  },
  "language_info": {
   "codemirror_mode": {
    "name": "ipython",
    "version": 3
   },
   "file_extension": ".py",
   "mimetype": "text/x-python",
   "name": "python",
   "nbconvert_exporter": "python",
   "pygments_lexer": "ipython3",
   "version": "3.7.0"
  }
 },
 "nbformat": 4,
 "nbformat_minor": 2
}
